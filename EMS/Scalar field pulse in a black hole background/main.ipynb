{
 "cells": [
  {
   "cell_type": "code",
   "execution_count": null,
   "metadata": {},
   "outputs": [],
   "source": [
    "import numpy as np\n",
    "import matplotlib.pyplot as plt\n",
    "%matplotlib qt\n",
    "from findiff import FinDiff\n",
    "import seaborn as sns\n",
    "sns.set_style(\"dark\")"
   ]
  },
  {
   "cell_type": "code",
   "execution_count": null,
   "metadata": {},
   "outputs": [],
   "source": [
    "\n",
    "# Constants\n",
    "m = 1\n",
    "A = 0.5\n",
    "r0 = 10*m\n",
    "delta = 2\n",
    "\n",
    "# Compactification through defining z\n",
    "err = 10**(-3)\n",
    "n = 2**(12)\n",
    "z = np.linspace(2/3 + err, 1 - err, n)\n",
    "r = m* z/ (1 - z)\n",
    "r_0 = r0* np.ones(n)\n",
    "\n",
    "# Setting up the derivative operator\n",
    "dz = z[1] - z[0]\n",
    "d_dz = FinDiff(0, dz, 1, acc = 4)\n",
    "\n",
    "# Initial condition\n",
    "phi_0 = A* np.exp(-(r - r_0)**2 / delta)\n",
    "Cap_phi0 = d_dz(phi_0)/d_dz(r)\n",
    "\n",
    "Cap_phi= [Cap_phi0]\n",
    "\n",
    "alpha = np.sqrt(r/(r + 2*m))\n",
    "a = alpha**(-1)\n",
    "beta = 2*m / (r + 2*m)\n",
    "\n",
    "# Ingoing wavepacket initial condition\n",
    "dphi0_dt = (d_dz(r* phi_0)) / (r* d_dz(r))\n",
    "pi0 = a* (dphi0_dt - beta* Cap_phi0) / alpha\n",
    "\n",
    "pi = [pi0]\n",
    "\n",
    "# Time direction\n",
    "t_ini = 0\n",
    "t_final = 0.5\n",
    "dt = 0.0001\n",
    "N = int((t_final - t_ini)/dt)\n",
    "\n",
    "print(r.shape)\n",
    "print(Cap_phi[-1].shape)\n",
    "print(pi[-1].shape)\n",
    "print(alpha.shape)\n",
    "print(a.shape)\n",
    "print(beta.shape)\n",
    "print(z.shape)"
   ]
  },
  {
   "cell_type": "code",
   "execution_count": null,
   "metadata": {},
   "outputs": [],
   "source": [
    "# Euler method\n",
    "for i in range(0, N):\n",
    "    temp_pi = pi[-1] + dt* (d_dz(r**2*(beta* pi[-1] + alpha* Cap_phi[-1]/ a))/ (r**2* d_dz(r)))\n",
    "    temp_cap_pi = Cap_phi[-1] + dt* (d_dz(beta* Cap_phi[-1] + alpha* pi[-1] / a))/ (d_dz(r))\n",
    "\n",
    "    Cap_phi.append(temp_cap_pi)\n",
    "    pi.append(temp_pi)\n",
    "    print(i)\n",
    "\n"
   ]
  },
  {
   "cell_type": "code",
   "execution_count": null,
   "metadata": {},
   "outputs": [],
   "source": [
    "s\n",
    "\n",
    "phi = []\n",
    "\n",
    "\n",
    "mat_inv = np.linalg.inv(mat)\n",
    "for i in range(0, N):\n",
    "    phi.append(np.dot(mat_inv, d_dz(r)* Cap_phi[i]))\n",
    "    print(i)\n",
    "\n"
   ]
  },
  {
   "cell_type": "code",
   "execution_count": null,
   "metadata": {},
   "outputs": [],
   "source": [
    "\n",
    "from matplotlib.animation import FuncAnimation\n",
    "\n",
    "\n",
    "T = 0.5\n",
    "dt = 0.0001\n",
    "# Set up the plot\n",
    "fig = plt.figure()\n",
    "ax = plt.gca()\n",
    "ax.plot(z, phi[0])\n",
    "\n",
    "\n",
    "# Setting frequency\n",
    "k = 50\n",
    "def update(i):\n",
    "    ax.cla()\n",
    "    ax.plot(z, phi[k* i])\n",
    "    ax.set_title('Time = {:.3f}'.format(i*dt*k))\n",
    "    ax.set_ylim(min(phi[0]), max(phi[0]))\n",
    "    plt.xlabel(\"Compactified z\")\n",
    "    plt.ylabel(\"Phi\")\n",
    "    return None\n",
    "\n",
    "no_frames = int(T/(dt* k))\n",
    "\n",
    "# Initialize the animation\n",
    "ani = FuncAnimation(fig, update, frames=no_frames, interval=10)\n",
    "ani.save('scalar-field.gif', writer='pillow', fps=10)\n",
    "plt.show()"
   ]
  },
  {
   "cell_type": "code",
   "execution_count": null,
   "metadata": {},
   "outputs": [],
   "source": []
  }
 ],
 "metadata": {
  "kernelspec": {
   "display_name": "Python 3",
   "language": "python",
   "name": "python3"
  },
  "language_info": {
   "codemirror_mode": {
    "name": "ipython",
    "version": 3
   },
   "file_extension": ".py",
   "mimetype": "text/x-python",
   "name": "python",
   "nbconvert_exporter": "python",
   "pygments_lexer": "ipython3",
   "version": "3.10.4"
  },
  "orig_nbformat": 4
 },
 "nbformat": 4,
 "nbformat_minor": 2
}
