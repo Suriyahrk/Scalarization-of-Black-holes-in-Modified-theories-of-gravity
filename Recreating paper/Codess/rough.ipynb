{
 "cells": [
  {
   "cell_type": "code",
   "execution_count": 5,
   "metadata": {},
   "outputs": [
    {
     "name": "stdout",
     "output_type": "stream",
     "text": [
      "2320\n"
     ]
    }
   ],
   "source": [
    "import numpy as np\n",
    "from findiff import FinDiff\n",
    "import matplotlib.pyplot as plt\n",
    "\n",
    "\"\"\"\n",
    "Using first order approximation for first derivative\n",
    "\"\"\"\n",
    "M = 1\n",
    "Q = 0.9  \n",
    "b = 200\n",
    "p = 2.116895853824\n",
    "n = 2**(12) # Defining the number of grid points\n",
    "a = 0  # Dissipation coefficient for Kriess oliger dissipation scheme\n",
    "\n",
    "err = 10**(-3)\n",
    "Z = np.linspace(err, 1 - err, n)\n",
    "R = M* Z/(1 - Z)\n",
    "dz = 1/n\n",
    "\n",
    "# Defining the derivative operator\n",
    "d_dz = FinDiff(0, dz, 1, acc=4)\n",
    "\n",
    "# Defining the phi at t=0\n",
    "phi = np.zeros(n)\n",
    "\n",
    "for i in range(0, n):\n",
    "        expo = Z[i]**2 / ( p**2 * (1 - Z[i])**2 )\n",
    "        if expo <= 100 :\n",
    "            phi[i] = 0.5 * np.exp(- expo)\n",
    "\n",
    "dphi = d_dz(phi)/d_dz(R)\n",
    "drdz = d_dz(R)\n",
    "\n",
    "def f(x):\n",
    "    return np.exp(b* x**4)\n",
    "\n",
    "# Defining the coupling function\n",
    "fphi = f(phi)\n",
    "\n",
    "Y = np.zeros(4)\n",
    "Y[3] = 2* M\n",
    "\n",
    "# Performing finite difference using first order difference (Eulers Method)\n",
    "\n",
    "for i in range(0, 3):\n",
    "    Y[2 - i] = Y[3 - i] - dz* (drdz[n - 1 - i] * R[n - 1 - i]**2 )* (dphi[n - 1 - i]**2 + Q**2 / (R[n - 1 - i]**4 * fphi[n - 1 - i]))\n",
    "\n",
    "\n",
    "# Using Fourth order finite difference by borrowing first 3 points from the Euler Method data\n",
    "Y4 = np.zeros(n)\n",
    "\n",
    "# Defining the initial conditions from the Eulers Method \n",
    "Y4[n - 1] = Y[3]\n",
    "Y4[n - 2] = Y[2]\n",
    "Y4[n - 3] = Y[1]\n",
    "Y4[n - 4] = Y[0]\n",
    "\n",
    "for i in range(0, n - 4):\n",
    "    term = drdz[n - 5 - i] * R[n - 5 - i]**2 * (dphi[n - 5 - i]**2 + Q**2 / (R[n - 5 - i]**4 * fphi[n - 5 - i]) )\n",
    "                                                 \n",
    "    Y4[n - i - 5] = (term * 12 * dz - ( (48 - 104*a*dz) * Y4[n - i - 4] - (36 - 114*a*dz) * Y4[n - i - 3] + (16 - 56*a*dz) * Y4[n - i - 2] - (3 - 11*a*dz)* Y4[n - i - 1]) )  / (-25 + 35*a*dz)\n",
    "\n",
    "    # print(Y4[n - i - 5])\n",
    "\n",
    "\n",
    "cut_off1 = np.argmin(abs(Y4 - R))//10 * 10\n",
    "zeta1 =  np.sqrt(Y4[cut_off1:]/R[cut_off1:])\n",
    "z1 = Z[cut_off1:]\n",
    "print(cut_off1)"
   ]
  },
  {
   "cell_type": "code",
   "execution_count": 6,
   "metadata": {},
   "outputs": [
    {
     "data": {
      "image/png": "[encoded data removed]",
      "text/plain": [
       "<Figure size 432x288 with 1 Axes>"
      ]
     },
     "metadata": {
      "needs_background": "light"
     },
     "output_type": "display_data"
    }
   ],
   "source": [
    "plt.plot(z1, zeta1, label='e')\n",
    "plt.legend()\n",
    "plt.show()\n"
   ]
  },
  {
   "cell_type": "code",
   "execution_count": 2,
   "metadata": {},
   "outputs": [
    {
     "name": "stdout",
     "output_type": "stream",
     "text": [
      " The position of initial apparant horizon is r = 1.30633411149816 \n",
      " z = 0.5664114774114775 \n",
      " m = 2320\n",
      "2320\n"
     ]
    },
    {
     "data": {
      "image/png": "[encoded data removed]",
      "text/plain": [
       "<Figure size 432x288 with 1 Axes>"
      ]
     },
     "metadata": {
      "needs_background": "light"
     },
     "output_type": "display_data"
    }
   ],
   "source": [
    "import numpy as np\n",
    "import time\n",
    "import matplotlib.pyplot as plt \n",
    "from scipy.linalg import solve_banded\n",
    "from scipy.optimize import root\n",
    "import sys\n",
    "sys.path.insert(0,'.')\n",
    "import pandas as pd\n",
    "\n",
    "# We will try to solve for the function zeta using implict method and compare our answer to the one obtained through backward differenc\n",
    "# Kriess Oliger Dissipation function has also been employed\n",
    "\n",
    "def round_of_to_lowest_ten(x):\n",
    "    return (x // 10)* 10 \n",
    "\n",
    "def get_banded_form(matrix, bandwidth_up, bandwidth_down):\n",
    "    n = matrix.shape[0]\n",
    "    diagonals = np.zeros((bandwidth_up + bandwidth_down + 1, n))\n",
    "\n",
    "    for i in range(-bandwidth_down, bandwidth_up + 1):\n",
    "        for j in range(0, n - abs(i)):\n",
    "            if i >= 0:\n",
    "                diagonals[bandwidth_up - i, n - 1 -j] = np.diag(matrix, k = i)[n - abs(i) - 1 - j]\n",
    "            else:\n",
    "                diagonals[bandwidth_up - i, j] = np.diag(matrix, k = i)[j]\n",
    "    return diagonals\n",
    "\n",
    "\n",
    "m = 1\n",
    "Q = 0.9\n",
    "p = 2.116895853824\n",
    "A = 0.5\n",
    "b_couple = 200\n",
    "y_boundary =2* m \n",
    "a = 0.1                      # Kreiss Oliger Dissipation coefficient\n",
    "h = 1/2**12                   # Step size\n",
    "n = 2**12 - 1                 # We only solve for the points which are not initially fixed\n",
    "\n",
    "# Definiing the implicit matrix\n",
    "M = np.zeros([n, n])\n",
    "\n",
    "# Defining the boundary parts of matrix \n",
    "M[0, :5]         = [-25 + 12 * a * h * 35, 48 + 12 * a * h * (-104), -36 + 12 * a * h * 114, 16 + 12 * a * h * (-56), -3 + 12 * a * h * 11]\n",
    "M[1, :5]         = [-3 + 12 * a * h * 11, -10 + 12 * a * h * (-20), 18 + 12 * a * h * 6, -6 + 12 * a * h * 4, 1 + 12 * a * h * (-1)]\n",
    "M[n - 2, n - 4:] = [1 + 12 * a * h * (-1), -8 + 12 * a * h * 16, 0 + 12 * a * h * (-30), 8 + 12 * a * h * 16]\n",
    "M[n - 1, n - 4:] = [-1 + 12 * a * h * (-1), 6 + 12 * a * h * 4, -18 + 12 * a * h * 6, 10 + 12 * a * h * (-20)]\n",
    "\n",
    "# Bulk of the matrix\n",
    "for i in range(2, n - 2):       \n",
    "    M[i][i - 2] = 1 + 12* a* h* (-1)\n",
    "    M[i][i - 1] = -8 + 12* a* h* (16)\n",
    "    M[i][i]     = 0 + 12* a* h* (-30) \n",
    "    M[i][i + 1] = 8 + 12* a* h* (16)\n",
    "    M[i][i + 2] = -1 + 12* a* h* (-1)\n",
    "\n",
    "err = 10**(-3)\n",
    "Z = np.linspace(err, 1 - err, 2**(12))\n",
    "\n",
    "Z_mod = Z[:-1]      # Neglecting the final point\n",
    "b = np.zeros(n)\n",
    "\n",
    "for i in range(0, n):\n",
    "    c1 = Q**2 / (m* Z_mod[i]**2)\n",
    "    c2 = 4* A**2* m* Z_mod[i]**4 / (p**4 * (Z_mod[i] - 1)**6 )\n",
    "\n",
    "    int1 = np.exp(- 4* Z_mod[i]**2 / (p**2* (Z_mod[i] - 1)**2 ))\n",
    "    int2 = np.exp(- 2* Z_mod[i]**2 / (p**2* (Z_mod[i] - 1)**2 ))\n",
    "\n",
    "    term1 = c1* np.exp( - A**4* b_couple* int1 ) \n",
    "    term2 = c2* int2\n",
    "    term = term1 + term2    \n",
    "    b[i] = term* 12* h\n",
    "\n",
    "\n",
    "# Fixing initial conditions\n",
    "b[n - 1] = b[n - 1] - ((3 + 11* 12*a*h)* y_boundary) \n",
    "b[n - 2] = b[n - 2] - ((-1 - 1* 12*a*h)* y_boundary) \n",
    "\n",
    "\n",
    "# Using banded technique\n",
    "banded_M = get_banded_form(M, 4, 3)\n",
    "Y = solve_banded((3, 4), banded_M, b)\n",
    "\n",
    "Y_mod = np.append(Y, y_boundary)\n",
    "R = m* Z/(1 - Z)\n",
    "\n",
    "cut_off = round_of_to_lowest_ten(np.argmin(abs(Y_mod - R)))\n",
    "\n",
    "print(f\" The position of initial apparant horizon is r = {R[cut_off]} \\n z = {Z[cut_off]} \\n m = {cut_off}\") \n",
    "print(cut_off)\n",
    "m = n - cut_off + 1\n",
    "s = np.sqrt(Y_mod[cut_off:])\n",
    "r = R[cut_off:]\n",
    "z = Z[cut_off:]\n",
    "\n",
    "plt.plot(z, s/np.sqrt(r), label='i')\n",
    "plt.plot(z1, zeta1, label='e')\n",
    "plt.legend()\n",
    "plt.show()\n"
   ]
  },
  {
   "cell_type": "code",
   "execution_count": null,
   "metadata": {},
   "outputs": [],
   "source": []
  }
 ],
 "metadata": {
  "kernelspec": {
   "display_name": "Python 3",
   "language": "python",
   "name": "python3"
  },
  "language_info": {
   "codemirror_mode": {
    "name": "ipython",
    "version": 3
   },
   "file_extension": ".py",
   "mimetype": "text/x-python",
   "name": "python",
   "nbconvert_exporter": "python",
   "pygments_lexer": "ipython3",
   "version": "3.10.4"
  },
  "orig_nbformat": 4
 },
 "nbformat": 4,
 "nbformat_minor": 2
}
