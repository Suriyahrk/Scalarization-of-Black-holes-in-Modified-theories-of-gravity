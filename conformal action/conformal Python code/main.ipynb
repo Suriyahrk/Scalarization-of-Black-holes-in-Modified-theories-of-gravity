{
 "cells": [
  {
   "cell_type": "code",
   "execution_count": 1,
   "metadata": {},
   "outputs": [],
   "source": [
    "import numpy as np\n",
    "import time\n",
    "import matplotlib.pyplot as plt \n",
    "%matplotlib qt\n",
    "from findiff import FinDiff\n",
    "from scipy.optimize import fsolve\n",
    "import sys\n",
    "sys.path.insert(0,'.')\n",
    "import pandas as pd"
   ]
  },
  {
   "cell_type": "code",
   "execution_count": 6,
   "metadata": {},
   "outputs": [],
   "source": [
    "# Fixing all the constants of the Problem\n",
    "M = 1\n",
    "n = 2**14         # no of grid points\n",
    "h = 1/n       # Step size in z (our compact variable)\n",
    "a = 0.1           # Kreiss Oliger Dissipation coefficient\n",
    "\n",
    "# Parameters of the potential\n",
    "mu = -200\n",
    "lam = 0.1\n",
    "c = 1000      # constant value given to the field"
   ]
  },
  {
   "cell_type": "code",
   "execution_count": 7,
   "metadata": {},
   "outputs": [
    {
     "name": "stderr",
     "output_type": "stream",
     "text": [
      "c:\\Users\\suriy\\AppData\\Local\\Programs\\Python\\Python310\\lib\\site-packages\\scipy\\optimize\\_minpack_py.py:177: RuntimeWarning: The iteration is not making good progress, as measured by the \n",
      "  improvement from the last ten iterations.\n",
      "  warnings.warn(msg, RuntimeWarning)\n"
     ]
    },
    {
     "name": "stdout",
     "output_type": "stream",
     "text": [
      " The position of initial apparant horizon is r = 998.9999999999991 \n",
      " z = 0.999 \n",
      " m = 16383\n",
      "4.952509880065918\n"
     ]
    }
   ],
   "source": [
    "\n",
    "# We will try to solve for the function zeta using explicit method at the intital time\n",
    "# Kriess Oliger Dissipation function has also been employed\n",
    "\n",
    "def zeta_zero(p_given):\n",
    "\n",
    "    p = p_given\n",
    "    \n",
    "    err = 10**(-3)                                            # Putting a cutoff to our space \n",
    "    Z = np.linspace(err, 1 - err, n)\n",
    "    R = M * Z / (1 - Z)\n",
    "                        \n",
    "    # Specifying intitial values of the Field namely psi and pi\n",
    "    psi = np.zeros(n) \n",
    "\n",
    "    for i in range(0, n):\n",
    "        expo = Z[i]**2 / ( p**2 * (1 - Z[i])**2 )\n",
    "        if expo <= 100 :\n",
    "            psi[i] =  0 * np.exp(-expo)\n",
    "\n",
    "    # Specifying hte initital value of pi \n",
    "    pi = np.zeros(n)\n",
    "    \n",
    "    # Defining the derivative operator using FinDiff\n",
    "    dz = Z[1] - Z[0]\n",
    "    d_dz = FinDiff(0, dz, 1, acc=4)\n",
    "\n",
    "    dphi = d_dz(psi) / d_dz(R)\n",
    "    d2phi = d_dz(dphi) / d_dz(R)\n",
    "    dpi = d_dz(pi) / d_dz(R)\n",
    "    drdz = d_dz(R)\n",
    "\n",
    "    # Defining the potential function\n",
    "    def V(x):\n",
    "        return mu * x ** 2 + lam * x ** 4 \n",
    "\n",
    "    V_phi = V(c + psi)\n",
    "\n",
    "    # Defining the RHS of our differenetial equation \n",
    "\n",
    "    def term(x, i):\n",
    "        term1 = (R[i] ** 2 * V_phi[i] * ((c + psi[i]) + R[i] * dphi[i]) + 2* (3 * (R[i] * dphi[i]) ** 3 + (R[i] * pi[i]) ** 2 * (pi[i] - 3 * R[i] * dphi[i]) + \\\n",
    "                 np.sqrt(R[i]) * pi[i] * (c + psi[i]) * (x * (3 * (c + psi[i]) + 8 * R[i] * dphi[i] ) - 2 * R[i] ** (5/2) * dpi[i] ) + R[i] ** 2 * (c + psi[i]) * dphi[i] * ( \\\n",
    "                 7 * dphi[i] + 2 * R[i] * d2phi[i] ) + (c + psi[i]) ** 2 * (4 * R[i] * dphi[i] - x ** 2 * dphi[i] + 2 * R[i] ** (3/2) * x * dpi[i] +  2 * R[i] **2 * d2phi[i] )))\n",
    "             \n",
    "        term2 = 4 * (c + psi[i]) ** 2 * (- R[i] ** (3/2) * pi[i] + x * (c + psi[i])) \n",
    "\n",
    "        return drdz[i] * (term1 / term2)\n",
    "\n",
    "    # Defining the four element array for initial Euler method\n",
    "    S_ini = np.zeros(4)\n",
    "    S_ini[3] = np.sqrt(2 * M) # Boundary condition\n",
    "\n",
    "    # Performing finite difference using first order difference (Eulers Method)\n",
    "\n",
    "    for i in range(0, 3):\n",
    "        S_ini[2 - i] = S_ini[3 - i] - dz * term(S_ini[3 - i] , n - i - 1) \n",
    "\n",
    "        # print(S_ini[2 - i])\n",
    "    \n",
    "    # Using fourth order finite difference with Kliess Oliger dissipation\n",
    "    S = np.zeros(n)\n",
    "\n",
    "    # Initial condition from Eulers Method\n",
    "    S[n - 1] = S_ini[3]\n",
    "    S[n - 2] = S_ini[2]\n",
    "    S[n - 3] = S_ini[1]\n",
    "    S[n - 4] = S_ini[0]\n",
    "\n",
    "    for i in range(0, n - 4):\n",
    "        def func(x):\n",
    "            return  - (25 + 35 * a * dz) * x + (48 - 104 * a * dz) * S[n - i - 4] - (36 - 114 * a * dz) * S[n - i - 3] +  (16 - 56 * a * dz) * S[n - i - 2] \\\n",
    "                    - (3 - 11 * a * dz) * S[n - i - 1] - 12 * dz * term(x , n - i - 5)\n",
    "\n",
    "        S[n - i - 5] = fsolve(func, x0 = S[n - i - 4])[0]\n",
    "        # print(S[n - i - 5])\n",
    "        \n",
    "    cut_off = np.argmin(abs(S - np.sqrt(R)))\n",
    "\n",
    "    print(f\" The position of initial apparant horizon is r = {R[cut_off]} \\n z = {Z[cut_off]} \\n m = {cut_off}\") \n",
    "    \n",
    "    \"\"\"\n",
    "    m = n - cut_off + 1\n",
    "    s = S[cut_off:]\n",
    "    r = R[cut_off:]\n",
    "    z = Z[cut_off:]\n",
    "    \n",
    "    \"\"\"\n",
    "    return  cut_off, Z, R, S\n",
    "\n",
    "start_time = time.time()\n",
    "data = zeta_zero(1)\n",
    "end_time = time.time()\n",
    "print(end_time-start_time)\n",
    "\n",
    "plt.plot(data[1], data[3])\n",
    "plt.axhline(y=1, color='r')\n",
    "plt.show()"
   ]
  },
  {
   "cell_type": "code",
   "execution_count": 37,
   "metadata": {},
   "outputs": [
    {
     "name": "stdout",
     "output_type": "stream",
     "text": [
      "2704262941.6542635\n"
     ]
    }
   ],
   "source": [
    "\n",
    "plt.plot(data[1][data[0]:], data[3][data[0]:], '.')\n",
    "plt.show()\n",
    "print(max(data[3]))"
   ]
  },
  {
   "cell_type": "code",
   "execution_count": null,
   "metadata": {},
   "outputs": [],
   "source": []
  }
 ],
 "metadata": {
  "kernelspec": {
   "display_name": "Python 3",
   "language": "python",
   "name": "python3"
  },
  "language_info": {
   "codemirror_mode": {
    "name": "ipython",
    "version": 3
   },
   "file_extension": ".py",
   "mimetype": "text/x-python",
   "name": "python",
   "nbconvert_exporter": "python",
   "pygments_lexer": "ipython3",
   "version": "3.10.4"
  },
  "orig_nbformat": 4
 },
 "nbformat": 4,
 "nbformat_minor": 2
}
